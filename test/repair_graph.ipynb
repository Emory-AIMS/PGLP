{
 "cells": [
  {
   "cell_type": "code",
   "execution_count": null,
   "metadata": {},
   "outputs": [
    {
     "name": "stderr",
     "output_type": "stream",
     "text": [
      "/home/takagi/workspace/venv/lib/python3.8/site-packages/pyproj/crs/crs.py:279: FutureWarning: '+init=<authority>:<code>' syntax is deprecated. '<authority>:<code>' is the preferred initialization method. When making the change, be mindful of axis order changes: https://pyproj4.github.io/pyproj/stable/gotchas.html#axis-order-changes-in-proj-6\n",
      "  projstring = _prepare_from_string(projparams)\n",
      "/home/takagi/workspace/venv/lib/python3.8/site-packages/pyproj/crs/crs.py:279: FutureWarning: '+init=<authority>:<code>' syntax is deprecated. '<authority>:<code>' is the preferred initialization method. When making the change, be mindful of axis order changes: https://pyproj4.github.io/pyproj/stable/gotchas.html#axis-order-changes-in-proj-6\n",
      "  projstring = _prepare_from_string(projparams)\n"
     ]
    },
    {
     "name": "stdout",
     "output_type": "stream",
     "text": [
      "isolated 12\n",
      "isolated 2067\n",
      "isolated 2073\n",
      "isolated 2082\n",
      "isolated 65\n",
      "isolated 75\n",
      "isolated 90\n",
      "isolated 103\n",
      "isolated 2167\n",
      "isolated 157\n",
      "isolated 200\n",
      "isolated 262\n",
      "isolated 269\n",
      "isolated 439\n",
      "isolated 504\n",
      "isolated 651\n",
      "isolated 655\n",
      "isolated 699\n",
      "isolated 718\n",
      "isolated 793\n",
      "isolated 801\n",
      "isolated 883\n",
      "isolated 921\n",
      "isolated 928\n",
      "isolated 984\n",
      "isolated 1003\n",
      "isolated 1074\n",
      "isolated 1160\n",
      "isolated 1163\n",
      "isolated 1256\n",
      "isolated 1297\n",
      "isolated 1336\n",
      "isolated 1463\n",
      "isolated 1499\n",
      "isolated 1509\n",
      "isolated 1522\n",
      "isolated 1584\n",
      "isolated 1586\n",
      "isolated 1607\n",
      "isolated 1625\n",
      "isolated 1721\n",
      "isolated 1730\n",
      "isolated 1834\n",
      "isolated 1863\n",
      "isolated 1935\n",
      "isolated 1944\n",
      "isolated 2044\n",
      "search for a connect state of 12\n"
     ]
    }
   ],
   "source": [
    "import sys\n",
    "sys.path.append(\"../src\")\n",
    "\n",
    "import numpy as np\n",
    "import os\n",
    "\n",
    "import map_processor\n",
    "import repair_graph\n",
    "\n",
    "n_x_lattice = 50\n",
    "placeID = 3\n",
    "min_lon, max_lon, min_lat, max_lat = 139.6, 139.75, 35.68, 35.8\n",
    "\n",
    "#data_dir = os.path.join(\"/\", \"data\", \"takagi\", \"globefish\")\n",
    "#graph_mat = np.loadtxt(os.path.join(data_dir, \"food.txt\"))\n",
    "\n",
    "mp = map_processor.MapProcessor(n_x_lattice)\n",
    "mp.make_map(min_lon, max_lon, min_lat, max_lat, placeID=placeID)\n",
    "mp.make_graph()\n",
    "\n",
    "graph_repairer = repair_graph.GraphRepairer(mp)\n",
    "graph_repairer.repair_graph()"
   ]
  }
 ],
 "metadata": {
  "kernelspec": {
   "display_name": "Python 3",
   "language": "python",
   "name": "python3"
  },
  "language_info": {
   "codemirror_mode": {
    "name": "ipython",
    "version": 3
   },
   "file_extension": ".py",
   "mimetype": "text/x-python",
   "name": "python",
   "nbconvert_exporter": "python",
   "pygments_lexer": "ipython3",
   "version": "3.8.2"
  }
 },
 "nbformat": 4,
 "nbformat_minor": 4
}
