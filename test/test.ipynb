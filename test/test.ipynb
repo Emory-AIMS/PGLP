{
 "cells": [
  {
   "cell_type": "code",
   "execution_count": 7,
   "metadata": {},
   "outputs": [],
   "source": [
    "import pandas as pd\n",
    "import sys\n",
    "import numpy as np\n",
    "sys.path.append(\"../src\")"
   ]
  },
  {
   "cell_type": "code",
   "execution_count": 8,
   "metadata": {},
   "outputs": [],
   "source": [
    "M = pd.read_csv(\"../temp/G_Transit_GeoLife_4thRing.csv\", header=None)"
   ]
  },
  {
   "cell_type": "code",
   "execution_count": 9,
   "metadata": {},
   "outputs": [
    {
     "data": {
      "text/plain": [
       "(2500, 2500)"
      ]
     },
     "execution_count": 9,
     "metadata": {},
     "output_type": "execute_result"
    }
   ],
   "source": [
    "M.shape"
   ]
  },
  {
   "cell_type": "code",
   "execution_count": 10,
   "metadata": {},
   "outputs": [],
   "source": [
    "import mechanism\n",
    "import trajectory_processor"
   ]
  },
  {
   "cell_type": "code",
   "execution_count": 11,
   "metadata": {},
   "outputs": [],
   "source": [
    "path_trans_mat = \"../temp/TransMat_4thRing.txt\"\n",
    "query = np.loadtxt(\"../temp/locQuery.txt\")\n",
    "\n",
    "tp = trajectory_processor.TrajectoryProcessor()\n",
    "\n",
    "tp.load(path_trans_mat, query)"
   ]
  },
  {
   "cell_type": "code",
   "execution_count": 12,
   "metadata": {},
   "outputs": [],
   "source": [
    "M = pd.read_csv(\"../temp/TestTrajSet_4thRing.txt\", header=None)"
   ]
  },
  {
   "cell_type": "code",
   "execution_count": 13,
   "metadata": {},
   "outputs": [],
   "source": [
    "trans_mat = np.loadtxt(\"../temp/TransMat_4thRing.txt\")\n",
    "query = np.loadtxt(\"../temp/locQuery.txt\")"
   ]
  },
  {
   "cell_type": "code",
   "execution_count": 24,
   "metadata": {},
   "outputs": [],
   "source": [
    "query = np.loadtxt(\"../temp/locQuery.txt\")"
   ]
  },
  {
   "cell_type": "code",
   "execution_count": 10,
   "metadata": {},
   "outputs": [
    {
     "ename": "NameError",
     "evalue": "name 'M' is not defined",
     "output_type": "error",
     "traceback": [
      "\u001b[0;31m---------------------------------------------------------------------------\u001b[0m",
      "\u001b[0;31mNameError\u001b[0m                                 Traceback (most recent call last)",
      "\u001b[0;32m<ipython-input-10-f3e8788da83b>\u001b[0m in \u001b[0;36m<module>\u001b[0;34m\u001b[0m\n\u001b[0;32m----> 1\u001b[0;31m \u001b[0mM\u001b[0m\u001b[0;34m\u001b[0m\u001b[0;34m\u001b[0m\u001b[0m\n\u001b[0m",
      "\u001b[0;31mNameError\u001b[0m: name 'M' is not defined"
     ]
    }
   ],
   "source": [
    "M"
   ]
  },
  {
   "cell_type": "code",
   "execution_count": 5,
   "metadata": {},
   "outputs": [
    {
     "name": "stdout",
     "output_type": "stream",
     "text": [
      "Collecting joblib\n",
      "  Using cached https://files.pythonhosted.org/packages/28/5c/cf6a2b65a321c4a209efcdf64c2689efae2cb62661f8f6f4bb28547cf1bf/joblib-0.14.1-py2.py3-none-any.whl\n",
      "Installing collected packages: joblib\n",
      "Successfully installed joblib-0.14.1\n",
      "\u001b[33mYou are using pip version 19.0.3, however version 20.0.2 is available.\n",
      "You should consider upgrading via the 'pip install --upgrade pip' command.\u001b[0m\n"
     ]
    }
   ],
   "source": [
    "!pip install joblib"
   ]
  },
  {
   "cell_type": "code",
   "execution_count": 1,
   "metadata": {},
   "outputs": [],
   "source": [
    "import sys\n",
    "sys.path.append(\"../src\")\n",
    "\n",
    "import pandas as pd\n",
    "import trajectory_processor\n",
    "import numpy as np\n",
    "import matplotlib.pyplot as plt\n",
    "import util\n",
    "#from scipy.spatial import ConvexHull, convex_hull_plot_2d\n",
    "import mechanism\n",
    "\n",
    "def perturb_trajectory(traj, traj_processor, delta, epsilon, mec, iter_num=20):\n",
    "    reports = {\"trajectories\": [], \"distance\": []}\n",
    "    \n",
    "    for _ in range(iter_num):\n",
    "        \n",
    "        prior_distribution = np.zeros(traj_processor.size)\n",
    "        prior_distribution[traj[0]] = 1\n",
    "        perturbed_trajectory = np.zeros((len(traj) ,2))\n",
    "        distances = []\n",
    "\n",
    "        for i, traj in enumerate(traj):\n",
    "            #print(\"true state:\", np.where(oh_loc==1)[0][0])\n",
    "\n",
    "            pos_dist = traj_processor.compute_posterior_distribution(prior_distribution)\n",
    "            state_nos = traj_processor.compute_possible_set_with_graph(pos_dist, None)\n",
    "\n",
    "            coords = traj_processor.state2loc(state_nos)\n",
    "            true_loc = traj_processor.state2loc(np.array([traj]))[0]\n",
    "\n",
    "            mec.load(coords, state_nos)\n",
    "            mec.build_distribution(epsilon)\n",
    "            perturbed_loc = mec.perturb(true_loc)\n",
    "            perturbed_trajectory[i,:] = perturbed_loc\n",
    "\n",
    "            #print(\"true:\", true_loc, \"perturbed_loc\", perturbed_loc, \"\\n\")\n",
    "            prior_distribution = mec.inference(pos_dist, perturbed_loc)\n",
    "\n",
    "            distances.append(np.linalg.norm(true_loc - perturbed_loc))\n",
    "            \n",
    "        reports[\"trajectories\"].append(perturbed_trajectory)\n",
    "        reports[\"distance\"].append(distances)\n",
    "        \n",
    "        \n",
    "    return reports"
   ]
  },
  {
   "cell_type": "code",
   "execution_count": 2,
   "metadata": {},
   "outputs": [],
   "source": [
    "query = np.loadtxt(\"../temp/locQuery.txt\")\n",
    "\n",
    "path_trans_mat = \"../temp/TransMat_4thRing.txt\" \n",
    "data = \"../temp/testTrajSet_4thRing.txt\"\n",
    "trajs = pd.read_csv(\"../temp/testTrajSet_4thRing.txt\", header=None).to_numpy()\n",
    "\n",
    "epsilon = 1\n",
    "delta = 1e-2\n",
    "\n",
    "traj_processor = trajectory_processor.TrajectoryProcessor()\n",
    "traj_processor.load(path_trans_mat, query)"
   ]
  },
  {
   "cell_type": "code",
   "execution_count": null,
   "metadata": {},
   "outputs": [
    {
     "name": "stderr",
     "output_type": "stream",
     "text": [
      "../src/mechanism.py:174: RuntimeWarning: invalid value encountered in true_divide\n",
      "  ks = (vec / self.transformed_vertices)\n",
      "../src/mechanism.py:190: RuntimeWarning: invalid value encountered in double_scalars\n",
      "  b = (v2x-(x/y)*v2y)/((x/y)*(v1y-v2y)-v1x+v2x)\n",
      "../src/mechanism.py:190: RuntimeWarning: divide by zero encountered in double_scalars\n",
      "  b = (v2x-(x/y)*v2y)/((x/y)*(v1y-v2y)-v1x+v2x)\n"
     ]
    }
   ],
   "source": [
    "np.random.seed(0)\n",
    "im = mechanism.PlanarIsotropicMechanism()\n",
    "im_reports = perturb_trajectory(trajs[0], traj_processor, delta, epsilon, im, iter_num=1)"
   ]
  },
  {
   "cell_type": "code",
   "execution_count": 4,
   "metadata": {},
   "outputs": [],
   "source": [
    "trajs = pd.read_csv(\"../temp/testTrajSet_4thRing.txt\", header=None).to_numpy()"
   ]
  },
  {
   "cell_type": "code",
   "execution_count": 30,
   "metadata": {},
   "outputs": [
    {
     "data": {
      "text/plain": [
       "array([[1424, 1424, 1424, ..., 1568, 1568, 1568],\n",
       "       [ 980,  980,  980, ...,  831,  831,  831],\n",
       "       [ 787,  787,  787, ...,  835,  835,  835],\n",
       "       ...,\n",
       "       [1868, 1868, 1868, ..., 1663, 1663, 1663],\n",
       "       [ 319,  319,  319, ...,  501,  501,  501],\n",
       "       [2481, 2482, 2482, ..., 2474, 2474, 2474]])"
      ]
     },
     "execution_count": 30,
     "metadata": {},
     "output_type": "execute_result"
    }
   ],
   "source": [
    "trajs"
   ]
  },
  {
   "cell_type": "code",
   "execution_count": 6,
   "metadata": {},
   "outputs": [
    {
     "ename": "TypeError",
     "evalue": "dirname() missing 1 required positional argument: 'p'",
     "output_type": "error",
     "traceback": [
      "\u001b[0;31m---------------------------------------------------------------------------\u001b[0m",
      "\u001b[0;31mTypeError\u001b[0m                                 Traceback (most recent call last)",
      "\u001b[0;32m<ipython-input-6-bfb9b14f9ee2>\u001b[0m in \u001b[0;36m<module>\u001b[0;34m\u001b[0m\n\u001b[1;32m      1\u001b[0m \u001b[0;32mimport\u001b[0m \u001b[0mos\u001b[0m\u001b[0;34m\u001b[0m\u001b[0;34m\u001b[0m\u001b[0m\n\u001b[0;32m----> 2\u001b[0;31m \u001b[0mos\u001b[0m\u001b[0;34m.\u001b[0m\u001b[0mpath\u001b[0m\u001b[0;34m.\u001b[0m\u001b[0mdirname\u001b[0m\u001b[0;34m(\u001b[0m\u001b[0;34m)\u001b[0m\u001b[0;34m\u001b[0m\u001b[0;34m\u001b[0m\u001b[0m\n\u001b[0m",
      "\u001b[0;31mTypeError\u001b[0m: dirname() missing 1 required positional argument: 'p'"
     ]
    }
   ],
   "source": [
    "import os\n",
    "os.path.dirname()"
   ]
  },
  {
   "cell_type": "code",
   "execution_count": null,
   "metadata": {},
   "outputs": [],
   "source": []
  }
 ],
 "metadata": {
  "kernelspec": {
   "display_name": "Python 3",
   "language": "python",
   "name": "python3"
  },
  "language_info": {
   "codemirror_mode": {
    "name": "ipython",
    "version": 3
   },
   "file_extension": ".py",
   "mimetype": "text/x-python",
   "name": "python",
   "nbconvert_exporter": "python",
   "pygments_lexer": "ipython3",
   "version": "3.7.3"
  }
 },
 "nbformat": 4,
 "nbformat_minor": 4
}
